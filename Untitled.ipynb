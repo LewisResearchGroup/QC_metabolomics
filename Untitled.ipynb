{
 "cells": [
  {
   "cell_type": "code",
   "execution_count": 1,
   "id": "fb9502b8-1d75-4bfd-962f-f370b5550db3",
   "metadata": {
    "tags": []
   },
   "outputs": [],
   "source": [
    "import matplotlib.pyplot as plt\n",
    "import os\n",
    "import pandas as pd\n",
    "import datetime\n",
    "import numpy as np\n",
    "import glob\n",
    "import re\n",
    "import streamlit as st\n",
    "\n",
    "import base64\n",
    "from io import BytesIO\n",
    "from stlibs import SessionState"
   ]
  },
  {
   "cell_type": "code",
   "execution_count": 6,
   "id": "19520c11-b53c-4001-a5e1-0e253ba18e0e",
   "metadata": {},
   "outputs": [],
   "source": [
    "def download_link(object_to_download, download_filename, download_link_text):\n",
    "    \"\"\"\n",
    "    Generates a link to download the given object_to_download.\n",
    "    object_to_download (str, pd.DataFrame):  The object to be downloaded.\n",
    "    download_filename (str): filename and extension of file. e.g. mydata.csv, some_txt_output.txt\n",
    "    download_link_text (str): Text to display for download link.\n",
    "    Examples:\n",
    "    download_link(YOUR_DF, 'YOUR_DF.csv', 'Click here to download data!')\n",
    "    download_link(YOUR_STRING, 'YOUR_STRING.txt', 'Click here to download your text!')\n",
    "    \"\"\"\n",
    "    if isinstance(object_to_download,pd.DataFrame):\n",
    "        object_to_download = object_to_download.to_csv(index=False)\n",
    "\n",
    "    # some strings <-> bytes conversions necessary here\n",
    "    b64 = base64.b64encode(object_to_download.encode()).decode()\n"
   ]
  },
  {
   "cell_type": "code",
   "execution_count": 8,
   "id": "6d370471-2618-4e4f-876a-cc9f3f04dcf9",
   "metadata": {},
   "outputs": [],
   "source": [
    "def display_button():\n",
    "    display_instructions = st.selectbox('''Click here to see explanation''' , ('Close', 'Show Explanation'))\n",
    "    if display_instructions == 'Show Instructions':\n",
    "        st.markdown(\"\"\"\n",
    "         #### This app is meant to be used internally for running metabolomics quality control (QC)\n",
    "         #### The QC pipeline is running in five phases:\n",
    "         \"\"\")\n",
    "        st.write('''         \n",
    "         #####    1) Growth control\n",
    "         #####    2) M/Z drift calculation\n",
    "         #####    3) RT drift (not sure yet)    \n",
    "         #####    4) Linear Ranges\n",
    "         #####    5) Detection limits based on signal to noise ratio (LOD and LOQ)\n",
    "         ''')\n",
    "        \n",
    "display_button()\n"
   ]
  },
  {
   "cell_type": "code",
   "execution_count": 4,
   "id": "e329be57-85fc-4276-a9f7-0f52d776b11e",
   "metadata": {
    "tags": []
   },
   "outputs": [
    {
     "data": {
      "text/plain": [
       "\u001b[0;31mSignature:\u001b[0m\n",
       "\u001b[0mst\u001b[0m\u001b[0;34m.\u001b[0m\u001b[0mtext_input\u001b[0m\u001b[0;34m(\u001b[0m\u001b[0;34m\u001b[0m\n",
       "\u001b[0;34m\u001b[0m    \u001b[0mlabel\u001b[0m\u001b[0;34m,\u001b[0m\u001b[0;34m\u001b[0m\n",
       "\u001b[0;34m\u001b[0m    \u001b[0mvalue\u001b[0m\u001b[0;34m=\u001b[0m\u001b[0;34m''\u001b[0m\u001b[0;34m,\u001b[0m\u001b[0;34m\u001b[0m\n",
       "\u001b[0;34m\u001b[0m    \u001b[0mmax_chars\u001b[0m\u001b[0;34m=\u001b[0m\u001b[0;32mNone\u001b[0m\u001b[0;34m,\u001b[0m\u001b[0;34m\u001b[0m\n",
       "\u001b[0;34m\u001b[0m    \u001b[0mkey\u001b[0m\u001b[0;34m=\u001b[0m\u001b[0;32mNone\u001b[0m\u001b[0;34m,\u001b[0m\u001b[0;34m\u001b[0m\n",
       "\u001b[0;34m\u001b[0m    \u001b[0mtype\u001b[0m\u001b[0;34m=\u001b[0m\u001b[0;34m'default'\u001b[0m\u001b[0;34m,\u001b[0m\u001b[0;34m\u001b[0m\n",
       "\u001b[0;34m\u001b[0m    \u001b[0mhelp\u001b[0m\u001b[0;34m=\u001b[0m\u001b[0;32mNone\u001b[0m\u001b[0;34m,\u001b[0m\u001b[0;34m\u001b[0m\n",
       "\u001b[0;34m\u001b[0m\u001b[0;34m)\u001b[0m\u001b[0;34m\u001b[0m\u001b[0;34m\u001b[0m\u001b[0m\n",
       "\u001b[0;31mDocstring:\u001b[0m\n",
       "Display a single-line text input widget.\n",
       "\n",
       "Parameters\n",
       "----------\n",
       "label : str\n",
       "    A short label explaining to the user what this input is for.\n",
       "value : any\n",
       "    The text value of this widget when it first renders. This will be\n",
       "    cast to str internally.\n",
       "max_chars : int or None\n",
       "    Max number of characters allowed in text input.\n",
       "key : str\n",
       "    An optional string to use as the unique key for the widget.\n",
       "    If this is omitted, a key will be generated for the widget\n",
       "    based on its content. Multiple widgets of the same type may\n",
       "    not share the same key.\n",
       "type : str\n",
       "    The type of the text input. This can be either \"default\" (for\n",
       "    a regular text input), or \"password\" (for a text input that\n",
       "    masks the user's typed value). Defaults to \"default\".\n",
       "help : str\n",
       "    A tooltip that gets displayed next to the input.\n",
       "\n",
       "Returns\n",
       "-------\n",
       "str\n",
       "    The current value of the text input widget.\n",
       "\n",
       "Example\n",
       "-------\n",
       ">>> title = st.text_input('Movie title', 'Life of Brian')\n",
       ">>> st.write('The current movie title is', title)\n",
       "\u001b[0;31mFile:\u001b[0m      ~/.conda/envs/py3/lib/python3.9/site-packages/streamlit/elements/text_widgets.py\n",
       "\u001b[0;31mType:\u001b[0m      method\n"
      ]
     },
     "metadata": {},
     "output_type": "display_data"
    }
   ],
   "source": [
    "?st.text_input"
   ]
  }
 ],
 "metadata": {
  "kernelspec": {
   "display_name": "Python 3 (ipykernel)",
   "language": "python",
   "name": "python3"
  },
  "language_info": {
   "codemirror_mode": {
    "name": "ipython",
    "version": 3
   },
   "file_extension": ".py",
   "mimetype": "text/x-python",
   "name": "python",
   "nbconvert_exporter": "python",
   "pygments_lexer": "ipython3",
   "version": "3.9.12"
  }
 },
 "nbformat": 4,
 "nbformat_minor": 5
}
