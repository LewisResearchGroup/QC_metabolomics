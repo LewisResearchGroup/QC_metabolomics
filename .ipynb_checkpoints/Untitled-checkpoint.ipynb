{
 "cells": [
  {
   "cell_type": "code",
   "execution_count": 2,
   "id": "fb9502b8-1d75-4bfd-962f-f370b5550db3",
   "metadata": {},
   "outputs": [],
   "source": [
    "import matplotlib.pyplot as plt\n",
    "import os\n",
    "import pandas as pd\n",
    "import datetime\n",
    "import numpy as np\n",
    "import glob\n",
    "import re\n",
    "\n",
    "import streamlit as st"
   ]
  },
  {
   "cell_type": "code",
   "execution_count": 3,
   "id": "19520c11-b53c-4001-a5e1-0e253ba18e0e",
   "metadata": {},
   "outputs": [],
   "source": [
    "def download_link(object_to_download, download_filename, download_link_text):\n",
    "    \"\"\"\n",
    "    Generates a link to download the given object_to_download.\n",
    "    object_to_download (str, pd.DataFrame):  The object to be downloaded.\n",
    "    download_filename (str): filename and extension of file. e.g. mydata.csv, some_txt_output.txt\n",
    "    download_link_text (str): Text to display for download link.\n",
    "    Examples:\n",
    "    download_link(YOUR_DF, 'YOUR_DF.csv', 'Click here to download data!')\n",
    "    download_link(YOUR_STRING, 'YOUR_STRING.txt', 'Click here to download your text!')\n",
    "    \"\"\"\n",
    "    if isinstance(object_to_download,pd.DataFrame):\n",
    "        object_to_download = object_to_download.to_csv(index=False)\n",
    "\n",
    "    # some strings <-> bytes conversions necessary here\n",
    "    b64 = base64.b64encode(object_to_download.encode()).decode()\n"
   ]
  },
  {
   "cell_type": "code",
   "execution_count": null,
   "id": "6d370471-2618-4e4f-876a-cc9f3f04dcf9",
   "metadata": {},
   "outputs": [],
   "source": [
    "def display_button():\n",
    "    display_instructions = st.selectbox('''Click here to see explanation''' , ('Close', 'Show Explanation'))\n",
    "    if display_instructions == 'Show Instructions':\n",
    "        st.markdown(\"\"\"\n",
    "         #### This app is meant to be used internally for running metabolomics quality control (QC)\n",
    "         #### The QC pipeline is running in five phases:\n",
    "         \"\"\")\n",
    "        st.write('''         \n",
    "         #####    1) Growth control\n",
    "         #####    2) M/Z drift calculation\n",
    "         #####    3) RT drift (not sure yet)    \n",
    "         #####    4) Linear Ranges\n",
    "         #####    5) Detection limits based on signal to noise ratio (LOD and LOQ)\n",
    "         ''')\n",
    "        \n",
    "display_button()\n"
   ]
  }
 ],
 "metadata": {
  "kernelspec": {
   "display_name": "Python 3 (ipykernel)",
   "language": "python",
   "name": "python3"
  },
  "language_info": {
   "codemirror_mode": {
    "name": "ipython",
    "version": 3
   },
   "file_extension": ".py",
   "mimetype": "text/x-python",
   "name": "python",
   "nbconvert_exporter": "python",
   "pygments_lexer": "ipython3",
   "version": "3.9.12"
  }
 },
 "nbformat": 4,
 "nbformat_minor": 5
}
